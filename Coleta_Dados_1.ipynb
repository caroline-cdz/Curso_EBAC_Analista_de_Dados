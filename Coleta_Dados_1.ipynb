{
  "nbformat": 4,
  "nbformat_minor": 0,
  "metadata": {
    "colab": {
      "provenance": [],
      "include_colab_link": true
    },
    "kernelspec": {
      "name": "python3",
      "display_name": "Python 3"
    },
    "language_info": {
      "name": "python"
    }
  },
  "cells": [
    {
      "cell_type": "markdown",
      "metadata": {
        "id": "view-in-github",
        "colab_type": "text"
      },
      "source": [
        "<a href=\"https://colab.research.google.com/github/caroline-cdz/Curso_EBAC_Analista_de_Dados/blob/main/Coleta_Dados_1.ipynb\" target=\"_parent\"><img src=\"https://colab.research.google.com/assets/colab-badge.svg\" alt=\"Open In Colab\"/></a>"
      ]
    },
    {
      "cell_type": "code",
      "execution_count": null,
      "metadata": {
        "id": "l_xbGHeCz1_u",
        "outputId": "48bb37bd-6a3f-4316-94db-73bd7d905be7",
        "colab": {
          "base_uri": "https://localhost:8080/"
        }
      },
      "outputs": [
        {
          "output_type": "stream",
          "name": "stdout",
          "text": [
            "--2023-12-05 23:22:45--  https://raw.githubusercontent.com/andre-marcos-perez/ebac-course-utils/main/dataset/credito.xlsx\n",
            "Resolving raw.githubusercontent.com (raw.githubusercontent.com)... 185.199.108.133, 185.199.109.133, 185.199.110.133, ...\n",
            "Connecting to raw.githubusercontent.com (raw.githubusercontent.com)|185.199.108.133|:443... connected.\n",
            "HTTP request sent, awaiting response... 200 OK\n",
            "Length: 748185 (731K) [application/octet-stream]\n",
            "Saving to: ‘./credito.xlsx’\n",
            "\n",
            "./credito.xlsx      100%[===================>] 730.65K  3.77MB/s    in 0.2s    \n",
            "\n",
            "2023-12-05 23:22:46 (3.77 MB/s) - ‘./credito.xlsx’ saved [748185/748185]\n",
            "\n"
          ]
        }
      ],
      "source": [
        "!wget --show-progress --continue -O ./credito.xlsx https://raw.githubusercontent.com/andre-marcos-perez/ebac-course-utils/main/dataset/credito.xlsx"
      ]
    },
    {
      "cell_type": "code",
      "source": [
        "!pip install openpyxl"
      ],
      "metadata": {
        "id": "lNAN3-Ie0MEf",
        "colab": {
          "base_uri": "https://localhost:8080/"
        },
        "outputId": "ade84c52-6e76-497d-f233-3fca9e8194a8"
      },
      "execution_count": null,
      "outputs": [
        {
          "output_type": "stream",
          "name": "stdout",
          "text": [
            "Requirement already satisfied: openpyxl in /usr/local/lib/python3.10/dist-packages (3.1.2)\n",
            "Requirement already satisfied: et-xmlfile in /usr/local/lib/python3.10/dist-packages (from openpyxl) (1.1.0)\n"
          ]
        }
      ]
    },
    {
      "cell_type": "code",
      "source": [
        "from openpyxl import load_workbook\n",
        "\n",
        "planilhas = load_workbook(filename='credito.xlsx')\n",
        "planilha = planilhas.active"
      ],
      "metadata": {
        "id": "8vj0fXYg2AJq"
      },
      "execution_count": null,
      "outputs": []
    },
    {
      "cell_type": "code",
      "source": [
        "# solução do exercício 1\n",
        "\n",
        "from openpyxl import load_workbook\n",
        "import csv\n",
        "\n",
        "def extrair_e_salvar_dados(planilha, colunas_desejadas, nome_arquivo_csv):\n",
        "    sheet = planilha.active\n",
        "    cabecalhos = {sheet.cell(row=1, column=col_index).value: col_index for col_index in range(1, sheet.max_column + 1)}\n",
        "    colunas_extraidas = {coluna: [] for coluna in colunas_desejadas}\n",
        "\n",
        "    for row in sheet.iter_rows(min_row=2):\n",
        "        for coluna_desejada in colunas_desejadas:\n",
        "            col_index = cabecalhos[coluna_desejada]\n",
        "            valor = row[col_index - 1].value\n",
        "            colunas_extraidas[coluna_desejada].append(valor)\n",
        "\n",
        "    with open(nome_arquivo_csv, mode='w', newline='', encoding='utf-8') as csv_file:\n",
        "        csv_writer = csv.writer(csv_file, delimiter=';')\n",
        "        csv_writer.writerow(colunas_desejadas)\n",
        "\n",
        "        for linha in zip(*colunas_extraidas.values()):\n",
        "            csv_writer.writerow(linha)\n",
        "\n",
        "planilhas = load_workbook(filename='credito.xlsx')\n",
        "colunas_desejadas = ['id', 'default', 'sexo', 'idade', 'estado_civil']\n",
        "nome_arquivo_csv = 'credito.csv'\n",
        "extrair_e_salvar_dados(planilhas, colunas_desejadas, nome_arquivo_csv)"
      ],
      "metadata": {
        "id": "MQBdV7pe4JM0"
      },
      "execution_count": null,
      "outputs": []
    },
    {
      "cell_type": "code",
      "source": [
        "import csv\n",
        "\n",
        "def filtrar_e_salvar_csv(arquivo_entrada, arquivo_saida, colunas_desejadas, condicoes):\n",
        "\n",
        "  with open(arquivo_entrada, mode='r', newline='', encoding='utf-8') as csv_in, \\\n",
        "       open(arquivo_saida, mode='w', newline='', encoding='utf-8') as csv_out:\n",
        "        csv_reader = csv.reader(csv_in, delimiter=';')\n",
        "        csv_writer = csv.writer(csv_out, delimiter=';')\n",
        "\n",
        "        cabecalhos = next(csv_reader, None)\n",
        "\n",
        "        if cabecalhos is None:\n",
        "            return\n",
        "\n",
        "        indices_colunas = [cabecalhos.index(coluna) for coluna in colunas_desejadas]\n",
        "\n",
        "        csv_writer.writerow(colunas_desejadas)\n",
        "\n",
        "        for linha in csv_reader:\n",
        "\n",
        "          linha_dict = dict(zip(cabecalhos, linha))\n",
        "\n",
        "          atende_condicoes = all(linha_dict[coluna] == condicao for coluna, condicao in condicoes.items())\n",
        "\n",
        "          if atende_condicoes:\n",
        "                csv_writer.writerow([linha_dict[coluna] for coluna in colunas_desejadas])\n",
        "\n",
        "arquivo_entrada = 'credito.csv'\n",
        "arquivo_saida = 'credito_filtrado.csv'\n",
        "colunas_desejadas = ['id', 'sexo', 'idade', 'estado_civil', 'default']\n",
        "condicoes = {'default': '1', 'estado_civil': 'solteiro'}\n",
        "filtrar_e_salvar_csv(arquivo_entrada, arquivo_saida, colunas_desejadas, condicoes)\n"
      ],
      "metadata": {
        "id": "Yu4KulFMZuPp"
      },
      "execution_count": null,
      "outputs": []
    },
    {
      "cell_type": "code",
      "source": [
        "# solução do exercício 2\n",
        "\n",
        "import openpyxl\n",
        "import json\n",
        "\n",
        "planilha = openpyxl.load_workbook(filename='credito.xlsx')\n",
        "planilha_ativa = planilha.active\n",
        "\n",
        "escolaridades = [row[7].value for row in planilha_ativa.iter_rows(min_row=2)]\n",
        "tipos_cartao = [row[11].value for row in planilha_ativa.iter_rows(min_row=2)]\n",
        "\n",
        "escolaridades_unicas = list(set(escolaridades))\n",
        "tipos_cartao_unicos = list(set(tipos_cartao))\n",
        "\n",
        "credito = {\n",
        "    'tipo_cartao': tipos_cartao_unicos,\n",
        "    'escolaridade': escolaridades_unicas\n",
        "}\n",
        "\n",
        "credito_json = json.dumps(credito, indent=4)\n",
        "print(credito_json)"
      ],
      "metadata": {
        "colab": {
          "base_uri": "https://localhost:8080/"
        },
        "id": "WtkzxiWWjaK5",
        "outputId": "f4c57176-57bc-4272-aca4-c962cecd1471"
      },
      "execution_count": null,
      "outputs": [
        {
          "output_type": "stream",
          "name": "stdout",
          "text": [
            "{\n",
            "    \"tipo_cartao\": [\n",
            "        0,\n",
            "        1,\n",
            "        2,\n",
            "        3,\n",
            "        4,\n",
            "        5,\n",
            "        6\n",
            "    ],\n",
            "    \"escolaridade\": [\n",
            "        \"na\",\n",
            "        \"$120K +\",\n",
            "        \"$40K - $60K\",\n",
            "        \"menos que $40K\",\n",
            "        \"$80K - $120K\",\n",
            "        \"$60K - $80K\"\n",
            "    ]\n",
            "}\n"
          ]
        }
      ]
    },
    {
      "cell_type": "code",
      "source": [
        "%%writefile ebac.txt\n",
        "MÍDIAS SOCIAIS\n",
        "Instagram, Facebook, Youtube, LinkedIn\n",
        "\n",
        "CURSOS\n",
        "Software, Design, Marketing, Audiovisual, Programação & Data, Games\n",
        "\n",
        "WEBINARS\n",
        "Próximos, Anteriores\n",
        "\n",
        "SOBRE\n",
        "Sobre nós, Centro de carreiras, Vagas\n",
        "\n",
        "CONTATO\n",
        "WhatsApp +55 (11) 4200-2991\n",
        "Telefone +55 (11) 3030-3200\n",
        "\n",
        "BLOG\n",
        "Design, Audiovisual, Marketing"
      ],
      "metadata": {
        "colab": {
          "base_uri": "https://localhost:8080/"
        },
        "id": "xjMD442ljsK3",
        "outputId": "9d16248e-abf6-4f9a-fa08-b23a69b7dceb"
      },
      "execution_count": null,
      "outputs": [
        {
          "output_type": "stream",
          "name": "stdout",
          "text": [
            "Overwriting ebac.txt\n"
          ]
        }
      ]
    },
    {
      "cell_type": "code",
      "source": [
        "# solução do exercício 3 (bônus)\n",
        "\n",
        "import csv\n",
        "import re\n",
        "\n",
        "def extrair_numeros_contato(linha):\n",
        "  padrao_telefone = r'\\+(\\d{2,3})?(\\d{8,12})'\n",
        "  match = re.search(padrao_telefone, linha)\n",
        "  if match:\n",
        "    return match.group(0)\n",
        "  else:\n",
        "    return None\n",
        "\n",
        "num_contato = []\n",
        "\n",
        "with open(file='./ebac.txt', mode='r', encoding='utf8') as arq:\n",
        "  linhas = arq.readlines()\n",
        "\n",
        "linhas = list(filter(lambda l: l != '\\n', map(lambda l: l.strip(), linhas)))\n",
        "\n",
        "for linha in linhas:\n",
        "  num = extrair_numeros_contato(linha)\n",
        "  if num:\n",
        "    num_contato.append(num)\n",
        "\n",
        "dados_csv = [{'tipo': 'telefone', 'numero': num} for num in num_contato]"
      ],
      "metadata": {
        "id": "OP0TmStwj9vQ"
      },
      "execution_count": null,
      "outputs": []
    }
  ]
}